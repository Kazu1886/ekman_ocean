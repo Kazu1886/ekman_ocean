{
 "cells": [
  {
   "cell_type": "code",
   "execution_count": null,
   "id": "a4ef29d8",
   "metadata": {},
   "outputs": [],
   "source": [
    "import os\n",
    "import matplotlib as mpl\n",
    "import matplotlib.pyplot as plt\n",
    "import numpy as np \n",
    "from matplotlib.backends.backend_pdf import PdfPages"
   ]
  },
  {
   "cell_type": "code",
   "execution_count": null,
   "id": "9baec790",
   "metadata": {},
   "outputs": [],
   "source": [
    "mpl.rcParams['font.size'] = 12\n",
    "mpl.rcParams['legend.fontsize'] = 'large'\n",
    "mpl.rcParams['figure.titlesize'] = 'large'\n",
    "mpl.rcParams[\"font.family\"] = \"serif\"\n",
    "csfont = {'fontname':'Times New Roman'}\n",
    "plt.rcParams['mathtext.fontset']='dejavuserif'"
   ]
  },
  {
   "cell_type": "code",
   "execution_count": null,
   "id": "4ef7be62",
   "metadata": {},
   "outputs": [],
   "source": [
    "input_data_path = \"/Users/jeager/Documents/PhD_work/ekman_ocean/input_data/ProCb\"\n",
    "output_data_path = \"/Users/jeager/Documents/PhD_work/ekman_ocean/output_data/ProCb\"\n",
    "plot_path = \"/Users/jeager/Documents/PhD_work/ekman_ocean/plots\"\n",
    "lats_file = \"lats.dat\"\n",
    "lons_file = \"lons.dat\""
   ]
  },
  {
   "cell_type": "code",
   "execution_count": null,
   "id": "e73691f1",
   "metadata": {},
   "outputs": [],
   "source": [
    "t_num=201\n",
    "t_step=100\n",
    "t = []\n",
    "times = []\n",
    "for i in range(0,t_num):\n",
    "    time=i*t_step\n",
    "    t+=[time]\n",
    "    times+=[str(time)]"
   ]
  },
  {
   "cell_type": "code",
   "execution_count": null,
   "id": "8748edf4",
   "metadata": {},
   "outputs": [],
   "source": [
    "os.chdir(input_data_path)\n",
    "lats_index = np.loadtxt(lats_file, dtype=int, delimiter=\"\\t\",usecols=[0])\n",
    "lats_data = np.loadtxt(lats_file, delimiter=\"\\t\",usecols=[1])\n",
    "lons_index = np.loadtxt(lons_file, dtype=int, delimiter=\"\\t\",usecols=[0])\n",
    "lons_data = np.loadtxt(lons_file, delimiter=\"\\t\",usecols=[1])"
   ]
  },
  {
   "cell_type": "code",
   "execution_count": null,
   "id": "1995a4d7",
   "metadata": {},
   "outputs": [],
   "source": [
    "T_surf_data = []\n",
    "T_deep_data = []\n",
    "for time in times:\n",
    "    if time=='0':\n",
    "        T_surf_file = \"surface_temperature.dat\"\n",
    "        T_deep_file = \"surface_temperature.dat\"\n",
    "#         T_surf_file = \"T_surf_30000_days.dat\"\n",
    "#         T_deep_file = \"T_deep_30000_days.dat\"\n",
    "        os.chdir(input_data_path)\n",
    "    else:\n",
    "        T_surf_file = \"T_surf_\"+time+\"_days.dat\"\n",
    "        T_deep_file = \"T_deep_\"+time+\"_days.dat\"\n",
    "        os.chdir(output_data_path)\n",
    "    T_surf = np.loadtxt(T_surf_file, delimiter=\"\\t\",usecols=lons_index)\n",
    "    T_deep = np.loadtxt(T_deep_file, delimiter=\"\\t\",usecols=lons_index)\n",
    "    T_surf = np.mean(T_surf,axis=1)\n",
    "    T_surf = np.average(T_surf,axis=0,weights=np.cos(np.pi/180.*lats_data))\n",
    "    T_deep = np.mean(T_deep,axis=1)\n",
    "    T_deep = np.average(T_deep,axis=0,weights=np.cos(np.pi/180.*lats_data))\n",
    "    T_surf_data+=[T_surf]\n",
    "    T_deep_data+=[T_deep]"
   ]
  },
  {
   "cell_type": "code",
   "execution_count": null,
   "id": "ee17990c",
   "metadata": {},
   "outputs": [],
   "source": [
    "fig = plt.figure(1, figsize=(10,5))\n",
    "ax = fig.add_subplot(1,1,1)\n",
    "\n",
    "plt.axhline(y=T_surf_data[0], color='gray', linestyle=':')\n",
    "ax.plot(t,T_surf_data,'-',label='Surface')\n",
    "ax.plot(t,T_deep_data,'--',label='Deep')\n",
    "ax.grid(linestyle=':', alpha=0.5)\n",
    "# ax.set_xlim(0.0,15000.)\n",
    "# ax.set_ylim(226,229)\n",
    "ax.set_ylabel('Global Average Temperature (K)')\n",
    "ax.set_xlabel('Time (days)')\n",
    "ax.legend(loc='center right', fontsize=10)\n",
    "print(T_surf_data[-1])\n",
    "print(T_surf_data[0])\n",
    "plt.tight_layout()\n",
    "plt.show()\n",
    "os.chdir(plot_path)\n",
    "fig.savefig('equilibrium.pdf')"
   ]
  },
  {
   "cell_type": "code",
   "execution_count": null,
   "id": "12d5a83c",
   "metadata": {},
   "outputs": [],
   "source": []
  }
 ],
 "metadata": {
  "kernelspec": {
   "display_name": "Python 3",
   "language": "python",
   "name": "python3"
  },
  "language_info": {
   "codemirror_mode": {
    "name": "ipython",
    "version": 3
   },
   "file_extension": ".py",
   "mimetype": "text/x-python",
   "name": "python",
   "nbconvert_exporter": "python",
   "pygments_lexer": "ipython3",
   "version": "3.9.4"
  }
 },
 "nbformat": 4,
 "nbformat_minor": 5
}
