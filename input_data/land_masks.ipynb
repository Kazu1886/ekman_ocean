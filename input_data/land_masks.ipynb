{
 "cells": [
  {
   "cell_type": "code",
   "execution_count": null,
   "id": "029bea6c",
   "metadata": {},
   "outputs": [],
   "source": [
    "import numpy as np \n",
    "import pandas as pd"
   ]
  },
  {
   "cell_type": "code",
   "execution_count": null,
   "id": "374254a1",
   "metadata": {},
   "outputs": [],
   "source": [
    "lats_file = \"lats.dat\"\n",
    "lons_file = \"lons.dat\""
   ]
  },
  {
   "cell_type": "code",
   "execution_count": null,
   "id": "3918cf14",
   "metadata": {},
   "outputs": [],
   "source": [
    "lats = np.loadtxt(lats_file, delimiter=\"\\t\",usecols=[1])\n",
    "lons = np.loadtxt(lons_file, delimiter=\"\\t\",usecols=[1])\n",
    "# print(len(lats))\n",
    "# print(lats)"
   ]
  },
  {
   "cell_type": "code",
   "execution_count": null,
   "id": "5799b9d7",
   "metadata": {},
   "outputs": [],
   "source": [
    "land_mask = np.zeros((len(lats),len(lons)),dtype=int)\n",
    "# print(land_mask)"
   ]
  },
  {
   "cell_type": "code",
   "execution_count": null,
   "id": "962da86b",
   "metadata": {},
   "outputs": [],
   "source": [
    "for i_lat, lat in zip(range(0,len(lats)),lats):\n",
    "    for i_lon, lon in zip(range(0,len(lons)),lons):\n",
    "        if (lat<50 and lat>-50) and (lon>90 and lon<270):\n",
    "            land_mask[i_lat][i_lon] = 1"
   ]
  },
  {
   "cell_type": "code",
   "execution_count": null,
   "id": "edfae365",
   "metadata": {},
   "outputs": [],
   "source": [
    "land_mask_df = pd.DataFrame(land_mask, index=lats, columns=lons)\n",
    "# print(land_mask_df)\n",
    "land_mask_df.to_csv(\"land_mask_day_cont_100_180.dat\", sep='\\t', index=None, header=None)"
   ]
  },
  {
   "cell_type": "code",
   "execution_count": null,
   "id": "eb3fa9d6",
   "metadata": {},
   "outputs": [],
   "source": []
  }
 ],
 "metadata": {
  "kernelspec": {
   "display_name": "Python 3",
   "language": "python",
   "name": "python3"
  },
  "language_info": {
   "codemirror_mode": {
    "name": "ipython",
    "version": 3
   },
   "file_extension": ".py",
   "mimetype": "text/x-python",
   "name": "python",
   "nbconvert_exporter": "python",
   "pygments_lexer": "ipython3",
   "version": "3.9.4"
  }
 },
 "nbformat": 4,
 "nbformat_minor": 5
}
